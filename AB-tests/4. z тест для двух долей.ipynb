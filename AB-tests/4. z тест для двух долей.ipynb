{
 "cells": [
  {
   "cell_type": "code",
   "execution_count": 1,
   "metadata": {},
   "outputs": [],
   "source": [
    "import random\n",
    "import numpy as np\n",
    "from scipy.stats import uniform, binom, norm\n",
    "import statsmodels.stats as sm\n",
    "from statsmodels.stats.proportion import proportions_ztest\n",
    "import matplotlib.pyplot as plt"
   ]
  },
  {
   "cell_type": "markdown",
   "metadata": {},
   "source": [
    "## Z-test для двух выборок c биномиальным распределением"
   ]
  },
  {
   "cell_type": "code",
   "execution_count": 2,
   "metadata": {},
   "outputs": [],
   "source": [
    "n = random.choice([i for i in range(490,510+1)])\n",
    "m = random.choice([i for i in range(490,510+1)])"
   ]
  },
  {
   "cell_type": "code",
   "execution_count": 15,
   "metadata": {},
   "outputs": [
    {
     "name": "stdout",
     "output_type": "stream",
     "text": [
      "0.5\n",
      "0.51\n"
     ]
    }
   ],
   "source": [
    "# Генерим вероятности успеха\n",
    "p_x = uniform.rvs(size=1, loc=0, scale=1) \n",
    "p_y = uniform.rvs(size=1, loc=0, scale=1) \n",
    "p_x = 0.5\n",
    "p_y = 0.51\n",
    "print(p_x)\n",
    "print(p_y)"
   ]
  },
  {
   "cell_type": "code",
   "execution_count": 16,
   "metadata": {},
   "outputs": [],
   "source": [
    "x = binom.rvs(n=1, p=p_x, size=n)\n",
    "y = binom.rvs(n=1, p=p_y, size=m)"
   ]
  },
  {
   "cell_type": "code",
   "execution_count": 17,
   "metadata": {},
   "outputs": [
    {
     "data": {
      "image/png": "[encoded data removed]",
      "text/plain": [
       "<Figure size 432x288 with 1 Axes>"
      ]
     },
     "metadata": {
      "needs_background": "light"
     },
     "output_type": "display_data"
    }
   ],
   "source": [
    "plt.hist(x, bins=30, density=True, color='blue', alpha=0.7)\n",
    "plt.hist(y, bins=30, density=True, color='red', alpha=0.7)\n",
    "plt.show()"
   ]
  },
  {
   "cell_type": "markdown",
   "metadata": {},
   "source": [
    "Посчитаем по формуле"
   ]
  },
  {
   "cell_type": "code",
   "execution_count": 18,
   "metadata": {},
   "outputs": [],
   "source": [
    "p_x_est = sum(x)/n\n",
    "p_y_est = sum(y)/m\n",
    "P = (p_x_est*n + p_y_est*m)/(n + m)\n",
    "Z = (p_x_est - p_y_est)/np.sqrt(P*(1 - P)*(1/n + 1/m))"
   ]
  },
  {
   "cell_type": "code",
   "execution_count": 19,
   "metadata": {},
   "outputs": [
    {
     "data": {
      "text/plain": [
       "0.7990934932515352"
      ]
     },
     "execution_count": 19,
     "metadata": {},
     "output_type": "execute_result"
    }
   ],
   "source": [
    "p_value = (1 - norm.cdf(abs(Z)))*2\n",
    "p_value"
   ]
  },
  {
   "cell_type": "markdown",
   "metadata": {},
   "source": [
    "Посчитаем через prop.test"
   ]
  },
  {
   "cell_type": "code",
   "execution_count": 20,
   "metadata": {},
   "outputs": [
    {
     "name": "stdout",
     "output_type": "stream",
     "text": [
      "test statistic = 0.2545204682491104\n",
      "p-value = 0.7990934932515352\n"
     ]
    }
   ],
   "source": [
    "stat, pval = proportions_ztest([sum(x), sum(y)], \n",
    "                                [len(x), len(y)]) \n",
    "print(\"test statistic =\", stat)\n",
    "print(\"p-value =\", pval)"
   ]
  },
  {
   "cell_type": "code",
   "execution_count": null,
   "metadata": {},
   "outputs": [],
   "source": []
  },
  {
   "cell_type": "code",
   "execution_count": null,
   "metadata": {},
   "outputs": [],
   "source": []
  }
 ],
 "metadata": {
  "kernelspec": {
   "display_name": "Python 3",
   "language": "python",
   "name": "python3"
  },
  "language_info": {
   "codemirror_mode": {
    "name": "ipython",
    "version": 3
   },
   "file_extension": ".py",
   "mimetype": "text/x-python",
   "name": "python",
   "nbconvert_exporter": "python",
   "pygments_lexer": "ipython3",
   "version": "3.7.3"
  }
 },
 "nbformat": 4,
 "nbformat_minor": 4
}
