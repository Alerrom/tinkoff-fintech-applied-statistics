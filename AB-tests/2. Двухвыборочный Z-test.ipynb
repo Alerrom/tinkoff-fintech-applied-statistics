{
 "cells": [
  {
   "cell_type": "code",
   "execution_count": 16,
   "metadata": {},
   "outputs": [],
   "source": [
    "import pandas as pd\n",
    "import numpy as np\n",
    "from scipy.stats import norm, expon,binom\n",
    "import pandas as pd\n",
    "\n",
    "from statsmodels.stats import weightstats as stests\n",
    "import matplotlib.pyplot as plt"
   ]
  },
  {
   "cell_type": "markdown",
   "metadata": {},
   "source": [
    "## Двухвыборочный Z-test \n",
    "\n"
   ]
  },
  {
   "cell_type": "code",
   "execution_count": 17,
   "metadata": {},
   "outputs": [
    {
     "name": "stdout",
     "output_type": "stream",
     "text": [
      "0.5\n",
      "0.4\n"
     ]
    }
   ],
   "source": [
    "std = 1\n",
    "# mu_x = np.random.uniform(-1,1) \n",
    "# mu_y = np.random.uniform(-1,1)\n",
    "mu_x = 0.5\n",
    "mu_y = 0.4\n",
    "print(mu_x)\n",
    "print(mu_y)"
   ]
  },
  {
   "cell_type": "code",
   "execution_count": 18,
   "metadata": {},
   "outputs": [],
   "source": [
    "x = norm.rvs(size = 1010, loc = 50, scale = 2.5)\n",
    "y = norm.rvs(size = 988, loc = 51, scale = 2.5)"
   ]
  },
  {
   "cell_type": "code",
   "execution_count": 30,
   "metadata": {},
   "outputs": [
    {
     "name": "stdout",
     "output_type": "stream",
     "text": [
      "Z-statistic: -7.8340801441326855\n",
      "P-value: 4.722874705898218e-15\n"
     ]
    }
   ],
   "source": [
    "res = stests.ztest(x, y, alternative='two-sided',  ddof=1.0)\n",
    "print(\"Z-statistic:\", res[0])\n",
    "print(\"P-value:\", res[1])"
   ]
  },
  {
   "cell_type": "code",
   "execution_count": 29,
   "metadata": {},
   "outputs": [
    {
     "name": "stdout",
     "output_type": "stream",
     "text": [
      "t = -7.834080144132561\n",
      "p-value = 7.612316463423448e-15\n",
      "df =  1996.0\n"
     ]
    }
   ],
   "source": [
    "res = stests.ttest_ind(x, y)\n",
    "print(\"t =\", res[0])\n",
    "print(\"p-value =\", res[1])\n",
    "print(\"df = \", res[2])"
   ]
  },
  {
   "cell_type": "code",
   "execution_count": 22,
   "metadata": {},
   "outputs": [
    {
     "data": {
      "image/png": "[encoded data removed]",
      "text/plain": [
       "<Figure size 432x288 with 1 Axes>"
      ]
     },
     "metadata": {
      "needs_background": "light"
     },
     "output_type": "display_data"
    }
   ],
   "source": [
    "plt.hist(x, bins=30, density=True, color='blue', alpha=0.7)\n",
    "plt.hist(y, bins=30, density=True, color='red', alpha=0.7)\n",
    "plt.show()"
   ]
  }
 ],
 "metadata": {
  "kernelspec": {
   "display_name": "Python 3",
   "language": "python",
   "name": "python3"
  },
  "language_info": {
   "codemirror_mode": {
    "name": "ipython",
    "version": 3
   },
   "file_extension": ".py",
   "mimetype": "text/x-python",
   "name": "python",
   "nbconvert_exporter": "python",
   "pygments_lexer": "ipython3",
   "version": "3.7.3"
  }
 },
 "nbformat": 4,
 "nbformat_minor": 4
}
