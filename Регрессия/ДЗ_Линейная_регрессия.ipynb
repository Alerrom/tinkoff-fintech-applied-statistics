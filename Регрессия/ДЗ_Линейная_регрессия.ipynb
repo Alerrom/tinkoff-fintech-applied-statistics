{
 "cells": [
  {
   "cell_type": "code",
   "execution_count": 3,
   "metadata": {
    "colab": {
     "base_uri": "https://localhost:8080/",
     "height": 42
    },
    "id": "iWfzh8IJfWet",
    "outputId": "3cd40aff-d82d-4d92-fae5-41bd7ebda954"
   },
   "outputs": [],
   "source": [
    "import pandas as pd\n",
    "import numpy as np\n",
    "import matplotlib.pyplot as plt"
   ]
  },
  {
   "cell_type": "code",
   "execution_count": 4,
   "metadata": {
    "id": "X4yEZl4Pfi8Z"
   },
   "outputs": [],
   "source": [
    "#https://drive.google.com/file/d/18ycYDiKawgX8wOfQKQ2vQBjqwMj7ZP6J/view?usp=sharing"
   ]
  },
  {
   "cell_type": "code",
   "execution_count": 5,
   "metadata": {
    "colab": {
     "base_uri": "https://localhost:8080/"
    },
    "id": "8Htw0zvjfeB4",
    "outputId": "5eba46eb-0418-46a8-f367-40d5f155e587"
   },
   "outputs": [],
   "source": [
    "#!pip install -q gdown\n",
    "#!gdown https://drive.google.com/uc?id=18ycYDiKawgX8wOfQKQ2vQBjqwMj7ZP6J"
   ]
  },
  {
   "cell_type": "code",
   "execution_count": 6,
   "metadata": {
    "id": "lgAHUHoKfpZx"
   },
   "outputs": [],
   "source": [
    "df = pd.read_csv('income_homework.csv')"
   ]
  },
  {
   "cell_type": "code",
   "execution_count": 7,
   "metadata": {
    "colab": {
     "base_uri": "https://localhost:8080/",
     "height": 204
    },
    "id": "Ncx6cbJQfufd",
    "outputId": "e336e8a2-9299-46d7-dae7-820b251df599"
   },
   "outputs": [
    {
     "data": {
      "text/html": [
       "<div>\n",
       "<style scoped>\n",
       "    .dataframe tbody tr th:only-of-type {\n",
       "        vertical-align: middle;\n",
       "    }\n",
       "\n",
       "    .dataframe tbody tr th {\n",
       "        vertical-align: top;\n",
       "    }\n",
       "\n",
       "    .dataframe thead th {\n",
       "        text-align: right;\n",
       "    }\n",
       "</style>\n",
       "<table border=\"1\" class=\"dataframe\">\n",
       "  <thead>\n",
       "    <tr style=\"text-align: right;\">\n",
       "      <th></th>\n",
       "      <th>id</th>\n",
       "      <th>year</th>\n",
       "      <th>region</th>\n",
       "      <th>income</th>\n",
       "      <th>family_member</th>\n",
       "      <th>gender</th>\n",
       "      <th>year_born</th>\n",
       "      <th>education_level</th>\n",
       "      <th>marriage</th>\n",
       "      <th>job_type</th>\n",
       "      <th>company_size</th>\n",
       "      <th>reason_none_worker</th>\n",
       "    </tr>\n",
       "  </thead>\n",
       "  <tbody>\n",
       "    <tr>\n",
       "      <th>0</th>\n",
       "      <td>10101</td>\n",
       "      <td>2005</td>\n",
       "      <td>1</td>\n",
       "      <td>558182</td>\n",
       "      <td>1</td>\n",
       "      <td>2</td>\n",
       "      <td>1936</td>\n",
       "      <td>2</td>\n",
       "      <td>2</td>\n",
       "      <td></td>\n",
       "      <td></td>\n",
       "      <td>8</td>\n",
       "    </tr>\n",
       "    <tr>\n",
       "      <th>1</th>\n",
       "      <td>10101</td>\n",
       "      <td>2011</td>\n",
       "      <td>1</td>\n",
       "      <td>814546</td>\n",
       "      <td>1</td>\n",
       "      <td>2</td>\n",
       "      <td>1936</td>\n",
       "      <td>2</td>\n",
       "      <td>2</td>\n",
       "      <td></td>\n",
       "      <td></td>\n",
       "      <td>10</td>\n",
       "    </tr>\n",
       "    <tr>\n",
       "      <th>2</th>\n",
       "      <td>10101</td>\n",
       "      <td>2012</td>\n",
       "      <td>1</td>\n",
       "      <td>1190910</td>\n",
       "      <td>1</td>\n",
       "      <td>2</td>\n",
       "      <td>1936</td>\n",
       "      <td>2</td>\n",
       "      <td>2</td>\n",
       "      <td></td>\n",
       "      <td></td>\n",
       "      <td>10</td>\n",
       "    </tr>\n",
       "    <tr>\n",
       "      <th>3</th>\n",
       "      <td>10101</td>\n",
       "      <td>2013</td>\n",
       "      <td>1</td>\n",
       "      <td>2007273</td>\n",
       "      <td>1</td>\n",
       "      <td>2</td>\n",
       "      <td>1936</td>\n",
       "      <td>2</td>\n",
       "      <td>2</td>\n",
       "      <td></td>\n",
       "      <td></td>\n",
       "      <td>1</td>\n",
       "    </tr>\n",
       "    <tr>\n",
       "      <th>4</th>\n",
       "      <td>10101</td>\n",
       "      <td>2014</td>\n",
       "      <td>1</td>\n",
       "      <td>785455</td>\n",
       "      <td>1</td>\n",
       "      <td>2</td>\n",
       "      <td>1936</td>\n",
       "      <td>2</td>\n",
       "      <td>2</td>\n",
       "      <td></td>\n",
       "      <td></td>\n",
       "      <td>10</td>\n",
       "    </tr>\n",
       "  </tbody>\n",
       "</table>\n",
       "</div>"
      ],
      "text/plain": [
       "      id  year  region   income  family_member  gender  year_born  \\\n",
       "0  10101  2005       1   558182              1       2       1936   \n",
       "1  10101  2011       1   814546              1       2       1936   \n",
       "2  10101  2012       1  1190910              1       2       1936   \n",
       "3  10101  2013       1  2007273              1       2       1936   \n",
       "4  10101  2014       1   785455              1       2       1936   \n",
       "\n",
       "   education_level  marriage job_type company_size reason_none_worker  \n",
       "0                2         2                                        8  \n",
       "1                2         2                                       10  \n",
       "2                2         2                                       10  \n",
       "3                2         2                                        1  \n",
       "4                2         2                                       10  "
      ]
     },
     "execution_count": 7,
     "metadata": {},
     "output_type": "execute_result"
    }
   ],
   "source": [
    "df.head()"
   ]
  },
  {
   "cell_type": "markdown",
   "metadata": {
    "id": "AHxaD7upgeiW"
   },
   "source": [
    "#Краткое описание данных\n",
    "Данные по соц-дему и объему годового дохода.\n",
    "\n",
    "* id\n",
    "* year - год сбора данных\n",
    "* region - регион проживания\n",
    "* income - годовой доход\n",
    "* family_member - количество членов семьи\n",
    "* gender - пол (1 - мужчина, 2 - женщина)\n",
    "* year_born - год рождения\n",
    "* education_level - уровень образования \n",
    "** 1 - no education (under 7 yrs-old) \n",
    "** 2 - no education (7 & over 7 yrs-old) \n",
    "** 3 - elementary \n",
    "** 4 - middle school \n",
    "** 5 - high school \n",
    "** 6 - college \n",
    "** 7 - university degree \n",
    "** 8 - MA \n",
    "** 9 - doctoral degree\n",
    "* marriage - семейное положение\n",
    "** 1 - not applicable (under 18) \n",
    "** 2 - married \n",
    "** 3 - separated by death \n",
    "** 4 - separated \n",
    "** 5 - not married yet \n",
    "** 6 - others\n",
    "* job_type - отрасль работы (словарь в отдельном датасете)\n",
    "* company_size - размер компании\n",
    "* reason_none_worker - причина отсутствия работы\n",
    "** 1 - no capable \n",
    "** 2 - in military service \n",
    "** 3 - studying in school \n",
    "** 4 - prepare for school \n",
    "** 5 - prepare to apply job \n",
    "** 6 - house worker \n",
    "** 7 - caring kids at home \n",
    "** 8 - nursing \n",
    "** 9 - giving-up economic activities \n",
    "** 10 - no intention to work \n",
    "** 11 - others"
   ]
  },
  {
   "cell_type": "markdown",
   "metadata": {
    "id": "jkx4tQ5DjLee"
   },
   "source": [
    "# Словарь по отрасли работы\n",
    "https://docs.google.com/spreadsheets/d/1hYE1vCxTIhAKCKK5vLl2iF5xdm9dZDkf/edit?usp=sharing&ouid=103932844454011499284&rtpof=true&sd=true"
   ]
  },
  {
   "cell_type": "markdown",
   "metadata": {
    "id": "TEmHyIVnja7F"
   },
   "source": [
    "# Домашнее задание\n",
    "\n",
    "Построить модель, предсказывающую годовой доход. Использовать линейную регрессию.\n",
    "\n",
    "Целевая переменная - годовой доход клиента - income.\n",
    "\n",
    "1. Выполнить проверку переменных (минимум 3 шт), преобразовать их при необходимости - 3 балла\n",
    "\n",
    "2. Построить на отобранных данных линейную регрессию - 1 балл\n",
    "\n",
    "3. Оценить качество модели, проверить ее на тестовой выборке - 1 балл"
   ]
  },
  {
   "cell_type": "markdown",
   "metadata": {},
   "source": [
    "# Проверка переменных на ЛЗ"
   ]
  },
  {
   "cell_type": "code",
   "execution_count": 21,
   "metadata": {},
   "outputs": [],
   "source": [
    "from sklearn.linear_model import LinearRegression\n",
    "\n",
    "def simple_reg(predictor, target):\n",
    "    '''вспомогательная функция, отрисовка прямой для простой регресии'''\n",
    "    check = LinearRegression()\n",
    "    check.fit(predictor.reshape(-1,1),target)\n",
    "    return hv.Curve((np.array([i for i in np.linspace(min(predictor),max(predictor),100)]),\n",
    "                     check.coef_*np.array([i for i in np.linspace(min(predictor),\n",
    "                                                                  max(predictor),100)]) + check.intercept_))"
   ]
  },
  {
   "cell_type": "code",
   "execution_count": 24,
   "metadata": {},
   "outputs": [],
   "source": [
    "def make_bucket(df,feature, n =  100):\n",
    "    '''функция, бьющая на бакеты(по умолчанию 100 точек)'''\n",
    "    return df.assign(bucket = np.ceil(df[feature].rank(pct = True) * n))"
   ]
  },
  {
   "cell_type": "code",
   "execution_count": 26,
   "metadata": {},
   "outputs": [],
   "source": [
    "#%%output size=200\n",
    "#df.pipe(make_bucket,'region')\\\n",
    "#  .groupby(by = ['bucket']).mean()\\\n",
    "#  .pipe(lambda x:hv.Scatter(zip(np.array(x['region']), np.array(x['reason_none_worker'])),\n",
    "#                            kdims = ['region'],vdims=['reason_none_worker'],\n",
    "#                            label = 'Проверка линейности зависимости reason_none_worker от region')\n",
    "#         *simple_reg(np.array(df.age),np.array(df.monthly_income_amt)))"
   ]
  },
  {
   "cell_type": "markdown",
   "metadata": {},
   "source": [
    "# Строим модель и определяем качество"
   ]
  },
  {
   "cell_type": "code",
   "execution_count": 8,
   "metadata": {},
   "outputs": [],
   "source": [
    "X = df.drop(\"reason_none_worker\", axis=1)\n",
    "y = df[\"reason_none_worker\"]"
   ]
  },
  {
   "cell_type": "code",
   "execution_count": 9,
   "metadata": {},
   "outputs": [],
   "source": [
    "from sklearn.model_selection import KFold\n",
    "from sklearn.model_selection import train_test_split\n",
    "\n",
    "X_train, X_test, y_train, y_test = train_test_split(X, y, test_size=0.1)"
   ]
  },
  {
   "cell_type": "code",
   "execution_count": 11,
   "metadata": {},
   "outputs": [],
   "source": [
    "from sklearn.linear_model import LinearRegression\n",
    "\n",
    "#reg = LinearRegression()\n",
    "#reg.fit(X_train, y_train)\n",
    "\n",
    "#print(\"Сдвиг={}\".format(reg.intercept_))\n",
    "#print(\"Массив коэффициентов={}\".format(reg.coef_))"
   ]
  },
  {
   "cell_type": "code",
   "execution_count": 15,
   "metadata": {},
   "outputs": [
    {
     "data": {
      "text/plain": [
       "[<matplotlib.lines.Line2D at 0x1de81ea7760>]"
      ]
     },
     "execution_count": 15,
     "metadata": {},
     "output_type": "execute_result"
    },
    {
     "data": {
      "image/png": "[encoded data removed]",
      "text/plain": [
       "<Figure size 432x288 with 1 Axes>"
      ]
     },
     "metadata": {
      "needs_background": "light"
     },
     "output_type": "display_data"
    }
   ],
   "source": [
    "plt.plot(df['income'],df['reason_none_worker'])"
   ]
  },
  {
   "cell_type": "code",
   "execution_count": 20,
   "metadata": {},
   "outputs": [
    {
     "data": {
      "text/plain": [
       "[<matplotlib.lines.Line2D at 0x1de8b35cf40>]"
      ]
     },
     "execution_count": 20,
     "metadata": {},
     "output_type": "execute_result"
    },
    {
     "data": {
      "image/png": "[encoded data removed]",
      "text/plain": [
       "<Figure size 432x288 with 1 Axes>"
      ]
     },
     "metadata": {
      "needs_background": "light"
     },
     "output_type": "display_data"
    }
   ],
   "source": [
    "plt.plot(df['reason_none_worker'])"
   ]
  },
  {
   "cell_type": "code",
   "execution_count": null,
   "metadata": {},
   "outputs": [],
   "source": []
  }
 ],
 "metadata": {
  "colab": {
   "name": "ДЗ Линейная регрессия.ipynb",
   "provenance": []
  },
  "kernelspec": {
   "display_name": "Python 3",
   "language": "python",
   "name": "python3"
  },
  "language_info": {
   "codemirror_mode": {
    "name": "ipython",
    "version": 3
   },
   "file_extension": ".py",
   "mimetype": "text/x-python",
   "name": "python",
   "nbconvert_exporter": "python",
   "pygments_lexer": "ipython3",
   "version": "3.8.5"
  }
 },
 "nbformat": 4,
 "nbformat_minor": 1
}
