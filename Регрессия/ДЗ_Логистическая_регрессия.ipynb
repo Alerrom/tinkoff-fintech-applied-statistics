{
 "cells": [
  {
   "cell_type": "code",
   "execution_count": 2,
   "metadata": {
    "colab": {
     "base_uri": "https://localhost:8080/",
     "height": 42
    },
    "id": "_nuVJm-rN0ds",
    "outputId": "6a62037c-229d-48c9-97c8-eefb83962066"
   },
   "outputs": [],
   "source": [
    "import pandas as pd\n",
    "import numpy as np\n",
    "import matplotlib.pyplot as plt"
   ]
  },
  {
   "cell_type": "code",
   "execution_count": 3,
   "metadata": {
    "id": "kocTUg49MDWD"
   },
   "outputs": [
    {
     "ename": "SyntaxError",
     "evalue": "invalid syntax (<ipython-input-3-711224d28b71>, line 1)",
     "output_type": "error",
     "traceback": [
      "\u001b[1;36m  File \u001b[1;32m\"<ipython-input-3-711224d28b71>\"\u001b[1;36m, line \u001b[1;32m1\u001b[0m\n\u001b[1;33m    https://drive.google.com/file/d/1N6-JyeuTMfImQTsADQzKN40VE77VI7GY/view?usp=sharing\u001b[0m\n\u001b[1;37m          ^\u001b[0m\n\u001b[1;31mSyntaxError\u001b[0m\u001b[1;31m:\u001b[0m invalid syntax\n"
     ]
    }
   ],
   "source": [
    "#https://drive.google.com/file/d/1N6-JyeuTMfImQTsADQzKN40VE77VI7GY/view?usp=sharing"
   ]
  },
  {
   "cell_type": "code",
   "execution_count": 4,
   "metadata": {
    "colab": {
     "base_uri": "https://localhost:8080/"
    },
    "id": "mQ1vb5ROMtzl",
    "outputId": "4b485335-28a0-4a1f-e615-1cb790bf7d6e"
   },
   "outputs": [],
   "source": [
    "#!pip install -q gdown\n",
    "#!gdown https://drive.google.com/uc?id=1N6-JyeuTMfImQTsADQzKN40VE77VI7GY"
   ]
  },
  {
   "cell_type": "code",
   "execution_count": 5,
   "metadata": {
    "id": "afk1UgsaM4vD"
   },
   "outputs": [],
   "source": [
    "df = pd.read_csv('bank-additional-full.csv')"
   ]
  },
  {
   "cell_type": "code",
   "execution_count": 6,
   "metadata": {
    "colab": {
     "base_uri": "https://localhost:8080/",
     "height": 224
    },
    "id": "SYXuJxOvOEa5",
    "outputId": "e1642e6e-77c5-4729-de4f-e625ce5d70e5"
   },
   "outputs": [
    {
     "data": {
      "text/html": [
       "<div>\n",
       "<style scoped>\n",
       "    .dataframe tbody tr th:only-of-type {\n",
       "        vertical-align: middle;\n",
       "    }\n",
       "\n",
       "    .dataframe tbody tr th {\n",
       "        vertical-align: top;\n",
       "    }\n",
       "\n",
       "    .dataframe thead th {\n",
       "        text-align: right;\n",
       "    }\n",
       "</style>\n",
       "<table border=\"1\" class=\"dataframe\">\n",
       "  <thead>\n",
       "    <tr style=\"text-align: right;\">\n",
       "      <th></th>\n",
       "      <th>age</th>\n",
       "      <th>job</th>\n",
       "      <th>marital</th>\n",
       "      <th>education</th>\n",
       "      <th>house_loan_flg</th>\n",
       "      <th>personal_loan_flg</th>\n",
       "      <th>contact_day_of_week</th>\n",
       "      <th>duration</th>\n",
       "      <th>current_campaign_contacts_cnt</th>\n",
       "      <th>last_contact_days</th>\n",
       "      <th>previous_campaign_contacts_cnt</th>\n",
       "      <th>previous_contact_result</th>\n",
       "      <th>consumer_price_index</th>\n",
       "      <th>consumer_confidence_index</th>\n",
       "      <th>y</th>\n",
       "    </tr>\n",
       "  </thead>\n",
       "  <tbody>\n",
       "    <tr>\n",
       "      <th>0</th>\n",
       "      <td>45</td>\n",
       "      <td>blue-collar</td>\n",
       "      <td>married</td>\n",
       "      <td>basic.9y</td>\n",
       "      <td>yes</td>\n",
       "      <td>no</td>\n",
       "      <td>fri</td>\n",
       "      <td>297</td>\n",
       "      <td>1</td>\n",
       "      <td>999</td>\n",
       "      <td>0</td>\n",
       "      <td>nonexistent</td>\n",
       "      <td>93.918</td>\n",
       "      <td>-42.7</td>\n",
       "      <td>no</td>\n",
       "    </tr>\n",
       "    <tr>\n",
       "      <th>1</th>\n",
       "      <td>29</td>\n",
       "      <td>entrepreneur</td>\n",
       "      <td>married</td>\n",
       "      <td>high.school</td>\n",
       "      <td>yes</td>\n",
       "      <td>no</td>\n",
       "      <td>fri</td>\n",
       "      <td>668</td>\n",
       "      <td>2</td>\n",
       "      <td>999</td>\n",
       "      <td>0</td>\n",
       "      <td>nonexistent</td>\n",
       "      <td>93.918</td>\n",
       "      <td>-42.7</td>\n",
       "      <td>no</td>\n",
       "    </tr>\n",
       "    <tr>\n",
       "      <th>2</th>\n",
       "      <td>33</td>\n",
       "      <td>technician</td>\n",
       "      <td>married</td>\n",
       "      <td>basic.9y</td>\n",
       "      <td>yes</td>\n",
       "      <td>no</td>\n",
       "      <td>fri</td>\n",
       "      <td>436</td>\n",
       "      <td>4</td>\n",
       "      <td>999</td>\n",
       "      <td>0</td>\n",
       "      <td>nonexistent</td>\n",
       "      <td>93.918</td>\n",
       "      <td>-42.7</td>\n",
       "      <td>no</td>\n",
       "    </tr>\n",
       "    <tr>\n",
       "      <th>3</th>\n",
       "      <td>41</td>\n",
       "      <td>management</td>\n",
       "      <td>married</td>\n",
       "      <td>university.degree</td>\n",
       "      <td>yes</td>\n",
       "      <td>no</td>\n",
       "      <td>fri</td>\n",
       "      <td>1044</td>\n",
       "      <td>3</td>\n",
       "      <td>999</td>\n",
       "      <td>0</td>\n",
       "      <td>nonexistent</td>\n",
       "      <td>93.918</td>\n",
       "      <td>-42.7</td>\n",
       "      <td>no</td>\n",
       "    </tr>\n",
       "    <tr>\n",
       "      <th>4</th>\n",
       "      <td>30</td>\n",
       "      <td>services</td>\n",
       "      <td>divorced</td>\n",
       "      <td>high.school</td>\n",
       "      <td>yes</td>\n",
       "      <td>yes</td>\n",
       "      <td>fri</td>\n",
       "      <td>39</td>\n",
       "      <td>2</td>\n",
       "      <td>999</td>\n",
       "      <td>0</td>\n",
       "      <td>nonexistent</td>\n",
       "      <td>93.918</td>\n",
       "      <td>-42.7</td>\n",
       "      <td>no</td>\n",
       "    </tr>\n",
       "  </tbody>\n",
       "</table>\n",
       "</div>"
      ],
      "text/plain": [
       "   age           job   marital          education house_loan_flg  \\\n",
       "0   45   blue-collar   married           basic.9y            yes   \n",
       "1   29  entrepreneur   married        high.school            yes   \n",
       "2   33    technician   married           basic.9y            yes   \n",
       "3   41    management   married  university.degree            yes   \n",
       "4   30      services  divorced        high.school            yes   \n",
       "\n",
       "  personal_loan_flg contact_day_of_week  duration  \\\n",
       "0                no                 fri       297   \n",
       "1                no                 fri       668   \n",
       "2                no                 fri       436   \n",
       "3                no                 fri      1044   \n",
       "4               yes                 fri        39   \n",
       "\n",
       "   current_campaign_contacts_cnt  last_contact_days  \\\n",
       "0                              1                999   \n",
       "1                              2                999   \n",
       "2                              4                999   \n",
       "3                              3                999   \n",
       "4                              2                999   \n",
       "\n",
       "   previous_campaign_contacts_cnt previous_contact_result  \\\n",
       "0                               0             nonexistent   \n",
       "1                               0             nonexistent   \n",
       "2                               0             nonexistent   \n",
       "3                               0             nonexistent   \n",
       "4                               0             nonexistent   \n",
       "\n",
       "   consumer_price_index  consumer_confidence_index   y  \n",
       "0                93.918                      -42.7  no  \n",
       "1                93.918                      -42.7  no  \n",
       "2                93.918                      -42.7  no  \n",
       "3                93.918                      -42.7  no  \n",
       "4                93.918                      -42.7  no  "
      ]
     },
     "execution_count": 6,
     "metadata": {},
     "output_type": "execute_result"
    }
   ],
   "source": [
    "df.head()"
   ]
  },
  {
   "cell_type": "markdown",
   "metadata": {
    "id": "CjjlzMcnRMoJ"
   },
   "source": [
    "#Краткое описание данных\n",
    "\n",
    "Данные по результатам маркетинговой кампании - обзвона клиентов с предложением оформить вклад.\n",
    "\n",
    "* age - возраст\n",
    "* job - работа\n",
    "* marital - семейное положение\n",
    "* education - уровень образования\n",
    "* house_loan_flg - факт наличие ипотеки у клиента\n",
    "* personal_loan_flg - факт наличия кредита у клиента\n",
    "* contact_day_of_week - день недели, в который клиенту звонили\n",
    "* duration - длительность звонка (актуальна толко в том случае, если мы до клиента дозвонились)\n",
    "* current_campaign_contacts_cnt - номер коммуникации с клиентом в рамках текущей маркетинговой кампании\n",
    "* last_contact_days - сколько дней прошло с последнего контакта с клиентом\n",
    "* previous_campaign_contscts_cnt - сколько коммуникаций с клиентом было в рамках предыдущих маркетинговых кампаний\n",
    "* previous_contact_result - результат коммуникации в рампах предыдущей маркетинговой кампании\n",
    "* consumer_price_index - индекс потребительских цет в месяц, когда была коммуникация с клиентом\n",
    "* consumer_confidence_index - индекс потребительской уверенности в месяц, когда была коммуникация с клиентом\n",
    "* y - целевая переменная. факт того, что на звонке клиент оформил вклад"
   ]
  },
  {
   "cell_type": "markdown",
   "metadata": {
    "id": "OgTduYPATbkt"
   },
   "source": [
    "#Домашнее задание\n",
    "\n",
    "Построить модель, предсказывающую согласие клиента на продукт. Использовать логистическую регрессию.\n",
    "\n",
    "Целевая переменная - факт того, что на звонке клиент оформил вклад.\n",
    "\n",
    "1. Выполнить проверку переменных (минимум 3 шт), преобразовать их при необходимости - 3 балла\n",
    "\n",
    "2. Построить на отобранных данных логистическую регрессию - 1 балл\n",
    "\n",
    "3. Оценить качество модели, проверить ее на тестовой выборке - 1 балл"
   ]
  },
  {
   "cell_type": "code",
   "execution_count": 8,
   "metadata": {},
   "outputs": [],
   "source": [
    "X = df.drop(\"y\", axis=1)\n",
    "y = df[\"y\"]"
   ]
  },
  {
   "cell_type": "code",
   "execution_count": 9,
   "metadata": {},
   "outputs": [],
   "source": [
    "from sklearn.model_selection import KFold\n",
    "from sklearn.model_selection import train_test_split\n",
    "\n",
    "X_train, X_test, y_train, y_test = train_test_split(X, y, test_size=0.1)"
   ]
  },
  {
   "cell_type": "code",
   "execution_count": null,
   "metadata": {},
   "outputs": [],
   "source": []
  }
 ],
 "metadata": {
  "colab": {
   "name": "ДЗ Логистическая регрессия.ipynb",
   "provenance": []
  },
  "kernelspec": {
   "display_name": "Python 3",
   "language": "python",
   "name": "python3"
  },
  "language_info": {
   "codemirror_mode": {
    "name": "ipython",
    "version": 3
   },
   "file_extension": ".py",
   "mimetype": "text/x-python",
   "name": "python",
   "nbconvert_exporter": "python",
   "pygments_lexer": "ipython3",
   "version": "3.8.5"
  }
 },
 "nbformat": 4,
 "nbformat_minor": 1
}
